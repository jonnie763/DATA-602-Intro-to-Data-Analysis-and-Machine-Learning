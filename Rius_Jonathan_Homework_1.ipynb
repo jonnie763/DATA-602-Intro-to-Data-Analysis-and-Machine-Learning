{
  "cells": [
    {
      "cell_type": "markdown",
      "metadata": {
        "id": "view-in-github",
        "colab_type": "text"
      },
      "source": [
        "<a href=\"https://colab.research.google.com/github/jonnie763/DATA-602-Intro-to-Data-Analysis-and-Machine-Learning/blob/main/Rius_Jonathan_Homework_1.ipynb\" target=\"_parent\"><img src=\"https://colab.research.google.com/assets/colab-badge.svg\" alt=\"Open In Colab\"/></a>"
      ]
    },
    {
      "cell_type": "markdown",
      "metadata": {
        "id": "w8fWGtP_VGei"
      },
      "source": [
        "## DATA 690 Homework 1 (50 points - Due on Monday, September 18, 2023 by 11:59 pm ET)\n",
        "\n",
        "The output of this assignment for submission should be in PDF format **AND** .py or .ipynb.\n",
        "\n",
        "The name of the file should be as follows:\n",
        "\n",
        "    Lastname_Firstname_Homework1.pdf (example: Thomas_Sunela_Homework1.pdf)\n",
        "   **AND**\n",
        "   \n",
        "    Lastname_Firstname_Homework1.ipynb (example: Thomas_Sunela_Assignment1.ipynb.\n",
        "    \n",
        "In short, you are submitting the python notebook as well as the pdf of that notebook.\n",
        "Do **NOT** submit .html file, the system will give you an error.\n",
        "\n",
        "    \n",
        "**Incorrect file name will cost you points!<br>**\n",
        "\n",
        "Instructions for converting a Jupyter Python notebook to PDF:\n",
        "                                        \n",
        "    Go to the menu and choose, File --> Download As --> html.\n",
        "    Open that html file and print it to PDF.\n",
        "    Submit the PDF file **NOT** the html file.\n",
        "\n",
        "If you are using Google Colab, remember to review the PDF before submitting to ensure that all cells and answers are displayed in the PDF.\n",
        "\n",
        "**Things to note:**\n",
        "\n",
        "* Each cell should display an output\n",
        "* Use only the basic Python concepts and methods taught thus far\n",
        "* Well formatted output\n",
        "* Use both Markdown and code comments in the Jupyter Notebook as needed\n"
      ]
    },
    {
      "cell_type": "markdown",
      "metadata": {
        "id": "yxhmZxP1VGej"
      },
      "source": [
        "We covered a lot of the basics of the Python programming language. Mastering the fundamentals of Python will equip you for more advanced data analysis libraries like the *Pandas* library.\n",
        "\n",
        "The goal of this activity is to start thinking about data analysis related tasks only using base Python. You will get practice using various data types, data structures, conditionals, and loops, and gain more experience writing functions."
      ]
    },
    {
      "cell_type": "markdown",
      "metadata": {
        "id": "jx3ylOH3VGek"
      },
      "source": [
        "## Clinical Trials - Sheep\n",
        "\n",
        "While working for a pharmaceutical company that specializes in medications for agriculture you were assigned to work on a project assessing the effectiveness of a new drug designed to treat tapeworms in sheep. (If the sheep have tapeworms they can't get as fat as they need to be at slaughter and it is a waste of feed.)\n",
        "\n",
        "To investigate you obtain a random sample of 25 worm-infected lambs of approximately the same age and health. Then you randomly divided the lambs into two groups. Twelve of the lambs were injected with the drug and the remaining thirteen were left untreated. After 6 months, the lambs were slaughtered and the number of worms were counted. You need to report to your boss whether the new medication has reduced the average number of tapeworms in the lambs. If so, how much?\n",
        "\n",
        "<pre>\n",
        "Untreated: 18, 43, 28, 50, 16, 32, 13, 35, 38, 33, 6, 7\n",
        "Treated: 40, 54, 26, 63, 21, 37, 39, 23, 48, 58, 28, 39, 42\n",
        "</pre>"
      ]
    },
    {
      "cell_type": "markdown",
      "metadata": {
        "id": "Bdonf1JGVGek"
      },
      "source": [
        "### Exercise 1: (5 points)\n",
        "<span  style=\"color:purple; font-size:16px\">Create two new lists (*trt_sorted*, *untrt_sorted*) using the ```copy()``` method that are sorted versions of the original data. Print the output</span>"
      ]
    },
    {
      "cell_type": "code",
      "execution_count": 12,
      "metadata": {
        "colab": {
          "base_uri": "https://localhost:8080/"
        },
        "id": "rw6BPt5XVGek",
        "outputId": "927ea6c4-3b79-4216-ddbb-77c3ae72c9e2"
      },
      "outputs": [
        {
          "output_type": "stream",
          "name": "stdout",
          "text": [
            "Untreated list is [18, 43, 28, 50, 16, 32, 13, 35, 38, 33, 6, 7]\n",
            "Treated list is [40, 54, 26, 63, 21, 37, 39, 23, 48, 58, 28, 39, 42]\n"
          ]
        }
      ],
      "source": [
        "## Exercise Answer\n",
        "\n",
        "Untreated =[18, 43, 28, 50, 16, 32, 13, 35, 38, 33, 6, 7]\n",
        "Treated =[40, 54, 26, 63, 21, 37, 39, 23, 48, 58, 28, 39, 42]\n",
        "\n",
        "x = Untreated.copy()\n",
        "\n",
        "y= Treated.copy()\n",
        "\n",
        "print(\"Untreated list is\", x)\n",
        "\n",
        "print(\"Treated list is\",y)"
      ]
    },
    {
      "cell_type": "markdown",
      "metadata": {
        "id": "LyKrA-X4VGel"
      },
      "source": [
        "### Exercise 2: (5 points)\n",
        "<span  style=\"color:purple; font-size:16px\">\n",
        "\n",
        "- Create a function called `get_nlargest()` that takes in a list as input.\n",
        "\n",
        "\n",
        " - Apply this function to *treated* with num = 4 and *untreated* with the default\n",
        "value.\n",
        "\n",
        " - Make sure output of both lists are shown. An optional parameter *num* indicating how many values to return but with a default value of 3.\n",
        "  \n",
        "- The function should then return the *num* largest values from the list.</span>"
      ]
    },
    {
      "cell_type": "code",
      "execution_count": 13,
      "metadata": {
        "colab": {
          "base_uri": "https://localhost:8080/"
        },
        "id": "kvxbPW7KVGel",
        "outputId": "464a8e76-8484-423d-d382-45b2bb4360cf"
      },
      "outputs": [
        {
          "output_type": "stream",
          "name": "stdout",
          "text": [
            "63\n",
            "50\n"
          ]
        }
      ],
      "source": [
        "## Exercise Answer\n",
        "\n",
        "def get_nlargest(nums):\n",
        "   Max = 0\n",
        "   for item in nums:\n",
        "       if item > Max:\n",
        "           Max=item\n",
        "   return Max\n",
        "\n",
        "print (get_nlargest(Treated))\n",
        "\n",
        "print (get_nlargest(Untreated))\n"
      ]
    },
    {
      "cell_type": "markdown",
      "metadata": {
        "id": "yMO7VQMZVGel"
      },
      "source": [
        "### Exercise 3: (5 points)\n",
        "<span  style=\"color:purple; font-size:16px\">Create a function to calculate the median of a list. The function should have a single parameter called *input_list* and return a single float. However, the calculation of the median is slightly different depending if there are an even number of elements in the list or not. If there are an odd number of elements in the list, then the median is the middle number. If there are an even number of elements in the list, then the median is the average of the middle two numbers. Use this function to calculate the median number of tapeworms for **each group** (*treated* and *untreated*). Display the output in a good format</span>"
      ]
    },
    {
      "cell_type": "code",
      "source": [
        "def median(data):\n",
        "\n",
        "    sorted_data = sorted(data)\n",
        "    data_len = len(sorted_data)\n",
        "    middle = (data_len - 1) // 2\n",
        "    if middle % 2:\n",
        "        return sorted_data[middle]\n",
        "    else:\n",
        "        return (sorted_data[middle] + sorted_data[middle + 1]) / 2.0\n",
        "\n",
        "\n",
        "med = median(Treated)\n",
        "\n",
        "float_me= float(med)\n",
        "\n",
        "print(float_me)\n",
        "\n",
        "print(\"Type is\",type(float_me))\n",
        "\n",
        "med_2=median(Untreated)\n",
        "\n",
        "float_med= float(med_2)\n",
        "\n",
        "print(float_med)\n",
        "\n",
        "print(\"Type is\", type(float_med))"
      ],
      "metadata": {
        "colab": {
          "base_uri": "https://localhost:8080/"
        },
        "id": "xKkO2ctkfYxG",
        "outputId": "7e655d5c-ebc1-400d-999d-9ed5f73c65b1"
      },
      "execution_count": 14,
      "outputs": [
        {
          "output_type": "stream",
          "name": "stdout",
          "text": [
            "39.5\n",
            "Type is <class 'float'>\n",
            "28.0\n",
            "Type is <class 'float'>\n"
          ]
        }
      ]
    },
    {
      "cell_type": "markdown",
      "metadata": {
        "id": "uJ-znHqPVGel"
      },
      "source": [
        "### Exercise 4: (10 points)\n",
        "<span  style=\"color:purple; font-size:16px\">Create a function called grader() that accepts a dictionary containing student names as keys and their midterm scores as values. It should return a dictionary with the students names as keys and a dictionary containing midterm score and letter grade as values. If score is above 90% then the grade is an A, if the score is between 80% and 90% then the grade is a B, if the score is between 70% and 80% then the grade is a C, if the score is between 60% and 70% then the grade is a D, if the score is below 60% then the grade is an F.\n",
        "\n",
        "test_scores_dict = {'Cole':88, 'Neal':56, 'Mary':72, 'Sasha':89, 'John':91, 'Mike':87, 'Kayla': 62, 'Caylee':85}\n",
        "\n",
        "Example return for first student:\n",
        "\n",
        "test_scores_return = {'Cole':{'midterm':88, 'grade':'B}}</span>"
      ]
    },
    {
      "cell_type": "code",
      "source": [
        "lst = [[90,80,70,60], [10,81,50, 65]]\n",
        "Lst_New=[]\n",
        "New_list=list(map(lambda x:sum(x)/len(x), lst))\n",
        "print(New_list)\n",
        "\n",
        "for score in New_list:\n",
        "    if score > 90:\n",
        "        New_grade = 'A'\n",
        "    elif score >= 80 and score <= 90:\n",
        "        New_grade = 'B'\n",
        "    elif score >= 70 and score <= 80:\n",
        "        New_grade = 'C'\n",
        "    elif score >= 60 and score <= 70:\n",
        "        New_grade = 'D'\n",
        "    else:\n",
        "        New_grade = 'F'\n",
        "    Lst_New.append(New_grade)\n",
        "\n",
        "    print (New_grade)"
      ],
      "metadata": {
        "colab": {
          "base_uri": "https://localhost:8080/"
        },
        "id": "RAzdw16iioAB",
        "outputId": "db8c4e40-360e-415f-9272-d2463ed6db07"
      },
      "execution_count": 88,
      "outputs": [
        {
          "output_type": "stream",
          "name": "stdout",
          "text": [
            "[75.0, 51.5]\n",
            "C\n",
            "F\n"
          ]
        }
      ]
    },
    {
      "cell_type": "code",
      "source": [
        "lst = [[90], [10],[87],[76]]\n",
        "\n",
        "Lst_New=[]\n",
        "\n",
        "New_list=list(map(lambda x:sum(x)/len(x), lst))\n",
        "\n",
        "print(New_list)\n",
        "\n",
        "for score in New_list:\n",
        "    if score > 90:\n",
        "        New_grade = 'Mid term grade is A'\n",
        "    elif score >= 80 and score <= 90:\n",
        "        New_grade = 'Mid term grade is B'\n",
        "    elif score >= 70 and score <= 80:\n",
        "        New_grade = 'Mid term grade is C'\n",
        "    elif score >= 60 and score <= 70:\n",
        "        New_grade = 'Mid term grade is D'\n",
        "    else:\n",
        "        New_grade = 'Mid term grade is F'\n",
        "\n",
        "    Lst_New.append(New_grade)\n",
        "\n",
        "    print (New_grade)"
      ],
      "metadata": {
        "colab": {
          "base_uri": "https://localhost:8080/"
        },
        "id": "Yi2mOo3KjEi0",
        "outputId": "4642d0b4-0291-4041-9c32-bd59d1805cde"
      },
      "execution_count": 114,
      "outputs": [
        {
          "output_type": "stream",
          "name": "stdout",
          "text": [
            "[90.0, 10.0, 87.0, 76.0]\n",
            "Mid term grade is B\n",
            "Mid term grade is F\n",
            "Mid term grade is B\n",
            "Mid term grade is C\n"
          ]
        }
      ]
    },
    {
      "cell_type": "code",
      "source": [
        "print(\"Enter Marks Obtained in 5 Subjects: \")\n",
        "\n",
        "total = 88\n",
        "\n",
        "total_2= 87\n",
        "\n",
        "\n",
        "\n",
        "if total >= 91 and total <= 100:\n",
        "    print(\"Your Grade is A1\")\n",
        "elif  total_2>= 81 and total_2 < 91:\n",
        "    print(\"Your Grade is A2\")\n"
      ],
      "metadata": {
        "colab": {
          "base_uri": "https://localhost:8080/"
        },
        "id": "A_90Z68pfUvK",
        "outputId": "1b3b47b6-e597-4384-856d-e5de6287d76b"
      },
      "execution_count": 71,
      "outputs": [
        {
          "output_type": "stream",
          "name": "stdout",
          "text": [
            "Enter Marks Obtained in 5 Subjects: \n",
            "Your Grade is A2\n"
          ]
        }
      ]
    },
    {
      "cell_type": "code",
      "execution_count": 27,
      "metadata": {
        "colab": {
          "base_uri": "https://localhost:8080/",
          "height": 227
        },
        "id": "apT0wXSwVGem",
        "outputId": "463d02ce-aeee-4762-bcd2-a43c9ecd4c78"
      },
      "outputs": [
        {
          "output_type": "stream",
          "name": "stdout",
          "text": [
            "The original dictionary : {'Cole': 88, 'Neal': 56, 'Mary': 72, 'Sasha': 89, 'John': 91, 'Mike': 87, 'Kayla': 62, 'Caylee': 85}\n"
          ]
        },
        {
          "output_type": "error",
          "ename": "TypeError",
          "evalue": "ignored",
          "traceback": [
            "\u001b[0;31m---------------------------------------------------------------------------\u001b[0m",
            "\u001b[0;31mTypeError\u001b[0m                                 Traceback (most recent call last)",
            "\u001b[0;32m<ipython-input-27-3f9507aa80ec>\u001b[0m in \u001b[0;36m<cell line: 7>\u001b[0;34m()\u001b[0m\n\u001b[1;32m      5\u001b[0m \u001b[0mprint\u001b[0m\u001b[0;34m(\u001b[0m\u001b[0;34m\"The original dictionary : \"\u001b[0m \u001b[0;34m+\u001b[0m  \u001b[0mstr\u001b[0m\u001b[0;34m(\u001b[0m\u001b[0mtest_scores_dict\u001b[0m\u001b[0;34m)\u001b[0m\u001b[0;34m)\u001b[0m\u001b[0;34m\u001b[0m\u001b[0;34m\u001b[0m\u001b[0m\n\u001b[1;32m      6\u001b[0m \u001b[0;34m\u001b[0m\u001b[0m\n\u001b[0;32m----> 7\u001b[0;31m \u001b[0mkey\u001b[0m\u001b[0;34m,\u001b[0m \u001b[0mval\u001b[0m \u001b[0;34m=\u001b[0m \u001b[0mtest_scores_dict\u001b[0m\u001b[0;34m.\u001b[0m\u001b[0mitems\u001b[0m\u001b[0;34m(\u001b[0m\u001b[0;34m)\u001b[0m\u001b[0;34m[\u001b[0m\u001b[0;36m0\u001b[0m\u001b[0;34m]\u001b[0m\u001b[0;34m\u001b[0m\u001b[0;34m\u001b[0m\u001b[0m\n\u001b[0m",
            "\u001b[0;31mTypeError\u001b[0m: 'dict_items' object is not subscriptable"
          ]
        }
      ],
      "source": [
        "## Exercise Answer\n",
        "\n",
        "test_scores_dict = {'Cole':88, 'Neal':56, 'Mary':72, 'Sasha':89, 'John':91, 'Mike':87, 'Kayla': 62, 'Caylee':85}\n",
        "\n",
        "print(\"The original dictionary : \" +  str(test_scores_dict))\n",
        "\n",
        "key, val = test_scores_dict.items()[0]\n"
      ]
    },
    {
      "cell_type": "code",
      "source": [
        "\n",
        "# Python3 code to demonstrate working of\n",
        "# Extracting key-value of dictionary in variables\n",
        "# Using iter() + next()\n",
        "\n",
        "# Initialize dictionary\n",
        "test_dict = {'Cole':88, 'Neal':56, 'Mary':72, 'Sasha':89, 'John':91, 'Mike':87, 'Kayla': 62, 'Caylee':85}\n",
        "\n",
        "# printing original dictionary\n",
        "print(\"The original dictionary : \" +  str(test_dict))\n",
        "\n",
        "# Using iter() + next()\n",
        "# Extracting key-value of dictionary in variables\n",
        "key, val = next(iter(test_dict.items()))\n",
        "\n",
        "# printing result\n",
        "print(\"The 1st key of dictionary is : \" + str(key))\n",
        "print(\"The 1st value of dictionary is : \" + str(val))"
      ],
      "metadata": {
        "colab": {
          "base_uri": "https://localhost:8080/"
        },
        "id": "0PO2ipG3bJEA",
        "outputId": "9f6e8f48-2caf-4a0a-cec5-442296610bd3"
      },
      "execution_count": 29,
      "outputs": [
        {
          "output_type": "stream",
          "name": "stdout",
          "text": [
            "The original dictionary : {'Cole': 88, 'Neal': 56, 'Mary': 72, 'Sasha': 89, 'John': 91, 'Mike': 87, 'Kayla': 62, 'Caylee': 85}\n",
            "The 1st key of dictionary is : Cole\n",
            "The 1st value of dictionary is : 88\n"
          ]
        }
      ]
    },
    {
      "cell_type": "code",
      "source": [
        "def grader():\n",
        "\n",
        "    Grades= 99,88\n",
        "\n",
        "    if Grades >=90:\n",
        "        grade = \"A\"\n",
        "\n",
        "    return(grade)"
      ],
      "metadata": {
        "id": "U6CZFqN8YqRm"
      },
      "execution_count": 50,
      "outputs": []
    },
    {
      "cell_type": "code",
      "source": [
        "New_list=[70,89]\n",
        "\n",
        "for score in New_list:\n",
        "    if score > 90:\n",
        "        New_grade = 'A'\n",
        "    elif score >= 80 and score <= 90:\n",
        "        New_grade = 'B'\n",
        "    elif score >= 70 and score <= 80:\n",
        "        New_grade = 'C'\n",
        "    elif score >= 60 and score <= 70:\n",
        "        New_grade = 'D'\n",
        "    else:\n",
        "        New_grade = 'F'"
      ],
      "metadata": {
        "id": "IsUUczmldFzk"
      },
      "execution_count": 54,
      "outputs": []
    },
    {
      "cell_type": "code",
      "source": [
        "def grade_to_letter(grade):\n",
        "    if grade > 90: return 'A'\n",
        "    if grade > 80: return 'B'\n",
        "    if grade > 70: return 'C'\n",
        "    if grade > 60: return 'D'\n",
        "    return 'F'\n",
        "\n",
        "lst = [[90,80,70,60], [10,81,50, 65]]\n",
        "Lst_New=[]\n",
        "\n",
        "for student in lst:\n",
        "    avg = sum(student) / len(student)\n",
        "    print(avg)\n",
        "\n",
        "    New_grade = grade_to_letter(avg)\n",
        "    Lst_New.append(New_grade)\n",
        "\n",
        "print(Lst_New)"
      ],
      "metadata": {
        "colab": {
          "base_uri": "https://localhost:8080/"
        },
        "id": "FqY2E-s6da8k",
        "outputId": "a92a05e5-10e8-4299-fd8c-e72ba51ebc3f"
      },
      "execution_count": 55,
      "outputs": [
        {
          "output_type": "stream",
          "name": "stdout",
          "text": [
            "75.0\n",
            "51.5\n",
            "['C', 'F']\n"
          ]
        }
      ]
    },
    {
      "cell_type": "code",
      "source": [
        "def grade_to_letter(grade):\n",
        "\n",
        "    if grade > 90: return 'A'\n",
        "    if grade > 80: return 'B'\n",
        "    if grade > 70: return 'C'\n",
        "    if grade > 60: return 'D'\n",
        "\n",
        "    return 'F'\n",
        "\n",
        "lst = 90,80,70,60,10,81,50, 65\n",
        "\n",
        "type(lst)\n",
        "\n",
        "\n"
      ],
      "metadata": {
        "colab": {
          "base_uri": "https://localhost:8080/"
        },
        "id": "dVu8B7Qldftq",
        "outputId": "d9f7983e-5e4b-47ae-92b8-3b34e93aeb8e"
      },
      "execution_count": 61,
      "outputs": [
        {
          "output_type": "execute_result",
          "data": {
            "text/plain": [
              "tuple"
            ]
          },
          "metadata": {},
          "execution_count": 61
        }
      ]
    },
    {
      "cell_type": "code",
      "source": [
        "grader()"
      ],
      "metadata": {
        "colab": {
          "base_uri": "https://localhost:8080/",
          "height": 297
        },
        "id": "SCPab9nqZvnW",
        "outputId": "cb318118-3dc5-451e-eea0-5293a4e7f5a6"
      },
      "execution_count": 51,
      "outputs": [
        {
          "output_type": "error",
          "ename": "TypeError",
          "evalue": "ignored",
          "traceback": [
            "\u001b[0;31m---------------------------------------------------------------------------\u001b[0m",
            "\u001b[0;31mTypeError\u001b[0m                                 Traceback (most recent call last)",
            "\u001b[0;32m<ipython-input-51-31bfa3b498e4>\u001b[0m in \u001b[0;36m<cell line: 1>\u001b[0;34m()\u001b[0m\n\u001b[0;32m----> 1\u001b[0;31m \u001b[0mgrader\u001b[0m\u001b[0;34m(\u001b[0m\u001b[0;34m)\u001b[0m\u001b[0;34m\u001b[0m\u001b[0;34m\u001b[0m\u001b[0m\n\u001b[0m",
            "\u001b[0;32m<ipython-input-50-3ed5dee2c800>\u001b[0m in \u001b[0;36mgrader\u001b[0;34m()\u001b[0m\n\u001b[1;32m      2\u001b[0m     \u001b[0mGrades\u001b[0m\u001b[0;34m=\u001b[0m \u001b[0;36m99\u001b[0m\u001b[0;34m,\u001b[0m\u001b[0;36m88\u001b[0m\u001b[0;34m\u001b[0m\u001b[0;34m\u001b[0m\u001b[0m\n\u001b[1;32m      3\u001b[0m \u001b[0;34m\u001b[0m\u001b[0m\n\u001b[0;32m----> 4\u001b[0;31m     \u001b[0;32mif\u001b[0m \u001b[0mGrades\u001b[0m \u001b[0;34m>=\u001b[0m\u001b[0;36m90\u001b[0m\u001b[0;34m:\u001b[0m\u001b[0;34m\u001b[0m\u001b[0;34m\u001b[0m\u001b[0m\n\u001b[0m\u001b[1;32m      5\u001b[0m         \u001b[0mgrade\u001b[0m \u001b[0;34m=\u001b[0m \u001b[0;34m\"A\"\u001b[0m\u001b[0;34m\u001b[0m\u001b[0;34m\u001b[0m\u001b[0m\n\u001b[1;32m      6\u001b[0m \u001b[0;34m\u001b[0m\u001b[0m\n",
            "\u001b[0;31mTypeError\u001b[0m: '>=' not supported between instances of 'tuple' and 'int'"
          ]
        }
      ]
    },
    {
      "cell_type": "code",
      "source": [
        "tot = total1 + total2 + total3 + total4 + total4\n",
        "\n",
        "avg = tot / 5\n",
        "\n",
        "if avg >= 91 and avg <= 100:\n",
        "    print(\"Your Grade is A\")\n",
        "elif avg >= 81 and avg < 91:\n",
        "    print(\"Your Grade is B\")\n",
        "elif avg >= 71 and avg < 81:\n",
        "    print(\"Your Grade is C\")\n",
        "elif avg >= 61 and avg < 71:\n",
        "    print(\"Your Grade is D\")\n",
        "elif avg >= 51 and avg < 61:\n",
        "    print(\"Your Grade is F\")\n",
        "else:\n",
        "    print(\"Invalid Input!\")"
      ],
      "metadata": {
        "colab": {
          "base_uri": "https://localhost:8080/",
          "height": 245
        },
        "id": "_eot_-yMXLr1",
        "outputId": "d52d85c4-cec7-4804-8b7d-8f2b24e0174d"
      },
      "execution_count": 7,
      "outputs": [
        {
          "output_type": "error",
          "ename": "NameError",
          "evalue": "ignored",
          "traceback": [
            "\u001b[0;31m---------------------------------------------------------------------------\u001b[0m",
            "\u001b[0;31mNameError\u001b[0m                                 Traceback (most recent call last)",
            "\u001b[0;32m<ipython-input-7-cccc60c78050>\u001b[0m in \u001b[0;36m<cell line: 1>\u001b[0;34m()\u001b[0m\n\u001b[0;32m----> 1\u001b[0;31m \u001b[0mtot\u001b[0m \u001b[0;34m=\u001b[0m \u001b[0mtotal1\u001b[0m \u001b[0;34m+\u001b[0m \u001b[0mtotal2\u001b[0m \u001b[0;34m+\u001b[0m \u001b[0mtotal3\u001b[0m \u001b[0;34m+\u001b[0m \u001b[0mtotal4\u001b[0m \u001b[0;34m+\u001b[0m \u001b[0mtotal4\u001b[0m\u001b[0;34m\u001b[0m\u001b[0;34m\u001b[0m\u001b[0m\n\u001b[0m\u001b[1;32m      2\u001b[0m \u001b[0;34m\u001b[0m\u001b[0m\n\u001b[1;32m      3\u001b[0m \u001b[0mavg\u001b[0m \u001b[0;34m=\u001b[0m \u001b[0mtot\u001b[0m \u001b[0;34m/\u001b[0m \u001b[0;36m5\u001b[0m\u001b[0;34m\u001b[0m\u001b[0;34m\u001b[0m\u001b[0m\n\u001b[1;32m      4\u001b[0m \u001b[0;34m\u001b[0m\u001b[0m\n\u001b[1;32m      5\u001b[0m \u001b[0;32mif\u001b[0m \u001b[0mavg\u001b[0m \u001b[0;34m>=\u001b[0m \u001b[0;36m91\u001b[0m \u001b[0;32mand\u001b[0m \u001b[0mavg\u001b[0m \u001b[0;34m<=\u001b[0m \u001b[0;36m100\u001b[0m\u001b[0;34m:\u001b[0m\u001b[0;34m\u001b[0m\u001b[0;34m\u001b[0m\u001b[0m\n",
            "\u001b[0;31mNameError\u001b[0m: name 'total1' is not defined"
          ]
        }
      ]
    },
    {
      "cell_type": "code",
      "source": [
        "def fizz_buzz(n):\n",
        "    # Declare a list of strings to store the results\n",
        "    result = []\n",
        "\n",
        "    # Loop from 1 to n (inclusive)\n",
        "    for i in range(1, n + 1):\n",
        "\n",
        "        # Check if i is divisible by both 3 and 5\n",
        "        if i % 3 == 0 and i % 5 == 0:\n",
        "\n",
        "            # Add \"FizzBuzz\" to the result list\n",
        "            result.append(\"FizzBuzz\")\n",
        "\n",
        "        # Check if i is divisible by 3\n",
        "        elif i % 3 == 0:\n",
        "\n",
        "            # Add \"Fizz\" to the result list\n",
        "            result.append(\"Fizz\")\n",
        "\n",
        "        # Check if i is divisible by 5\n",
        "        elif i % 5 == 0:\n",
        "\n",
        "            # Add \"Buzz\" to the result list\n",
        "            result.append(\"Buzz\")\n",
        "        else:\n",
        "\n",
        "            # Add the current number as a string to the\n",
        "            # result list\n",
        "            result.append(str(i))\n",
        "\n",
        "    # Return the result list\n",
        "    return result\n",
        "\n",
        "\n",
        "# Driver code\n",
        "n = 20\n",
        "\n",
        "# Call the fizz_buzz function to get the result\n",
        "result = fizz_buzz(n)\n",
        "\n",
        "# Print the result\n",
        "print(' '.join(result))"
      ],
      "metadata": {
        "colab": {
          "base_uri": "https://localhost:8080/"
        },
        "id": "aAHLzAG-W75G",
        "outputId": "5ac424d5-27ae-49d1-9c6c-95761d66955e"
      },
      "execution_count": 145,
      "outputs": [
        {
          "output_type": "stream",
          "name": "stdout",
          "text": [
            "1 2 Fizz 4 Buzz Fizz 7 8 Fizz Buzz 11 Fizz 13 14 FizzBuzz 16 17 Fizz 19 Buzz\n"
          ]
        }
      ]
    },
    {
      "cell_type": "code",
      "source": [
        "fizz_buzz(11)"
      ],
      "metadata": {
        "colab": {
          "base_uri": "https://localhost:8080/"
        },
        "id": "lP8jXRYepl_9",
        "outputId": "65fbf343-e1be-449f-ea48-0fc22dafcae3"
      },
      "execution_count": 147,
      "outputs": [
        {
          "output_type": "execute_result",
          "data": {
            "text/plain": [
              "['1', '2', 'Fizz', '4', 'Buzz', 'Fizz', '7', '8', 'Fizz', 'Buzz', '11']"
            ]
          },
          "metadata": {},
          "execution_count": 147
        }
      ]
    },
    {
      "cell_type": "markdown",
      "metadata": {
        "id": "PJQxdytpVGem"
      },
      "source": [
        "### Exercise 5: (10 points)\n",
        "<span  style=\"color:purple; font-size:16px\">Create a function ```fizz_buzz1``` that takes a single argument ```max_num```.\n",
        "\n",
        "- Have this function loop over the values from 1 to ```max_num```\n",
        "that prints each number from 1 to ```max_num``` on a new line.\n",
        "\n",
        "\n",
        " - For each multiple of 3, print \"Fizz\" instead of the number.\n",
        "\n",
        "\n",
        " - For each multiple of 5,\n",
        "print \"Buzz\" instead of the number.\n",
        "\n",
        "- For numbers which are multiples of both 3 and 5, print \"FizzBuzz\" instead of the number. What is the output of ```fizz_buzz1(11)```?\n",
        "</span>"
      ]
    },
    {
      "cell_type": "code",
      "source": [
        "for fizzbuzz in range(51):\n",
        "    if fizzbuzz % 3 == 0 and fizzbuzz % 5 == 0:\n",
        "        print(\"fizzbuzz\")\n",
        "        continue\n",
        "    elif fizzbuzz % 3 == 0:\n",
        "        print(\"fizz\")\n",
        "        continue\n",
        "    elif fizzbuzz % 5 == 0:\n",
        "        print(\"buzz\")\n",
        "        continue\n",
        "    print(fizzbuzz)\n",
        ""
      ],
      "metadata": {
        "id": "PqZrfZgCjDSb"
      },
      "execution_count": null,
      "outputs": []
    },
    {
      "cell_type": "code",
      "source": [
        "for fizzbuzz in range(11):\n",
        "    if fizzbuzz % 3 == 0 and fizzbuzz % 5 == 0:\n",
        "        print(\"fizzbuzz\")\n",
        "        continue\n",
        "    elif fizzbuzz % 3 == 0:\n",
        "        print(\"fizz\")\n",
        "        continue\n",
        "    elif fizzbuzz % 5 == 0:\n",
        "        print(\"buzz\")\n",
        "        continue\n",
        "    print(fizzbuzz)\n",
        ""
      ],
      "metadata": {
        "colab": {
          "base_uri": "https://localhost:8080/"
        },
        "id": "egQgnpG8jVIw",
        "outputId": "c2c1ad14-f705-4a40-f5e0-7aa6324f9bc5"
      },
      "execution_count": 144,
      "outputs": [
        {
          "output_type": "stream",
          "name": "stdout",
          "text": [
            "fizzbuzz\n",
            "1\n",
            "2\n",
            "fizz\n",
            "4\n",
            "buzz\n",
            "fizz\n",
            "7\n",
            "8\n",
            "fizz\n",
            "buzz\n"
          ]
        }
      ]
    },
    {
      "cell_type": "code",
      "source": [
        "max_num= 1,2,3,4,5,6,7,8,9,10,11\n",
        "\n",
        "def fizz_buzz1(max_num):\n",
        "\n",
        "    for fizzbuzz in range(11):\n",
        "\n",
        "        if fizzbuzz % 3==0 and fizzbuzz % 5==0:\n",
        "            print(\"fizzbuzz\")\n",
        "            continue\n",
        "        elif fizzbuzz % 3 == 0:\n",
        "            print(\"fizz\")\n",
        "            continue\n",
        "        elif fizzbuzz % 5 == 0:\n",
        "            print(\"buzz\")\n",
        "            continue\n",
        "\n",
        "    return"
      ],
      "metadata": {
        "id": "5DjY72MFjfTx"
      },
      "execution_count": 142,
      "outputs": []
    },
    {
      "cell_type": "code",
      "source": [
        "fizz_buzz1(max_num)"
      ],
      "metadata": {
        "colab": {
          "base_uri": "https://localhost:8080/"
        },
        "id": "9cM1oN5rkEV9",
        "outputId": "0e1cff4c-b4c8-479d-c5af-fb4f4dd2dae5"
      },
      "execution_count": 143,
      "outputs": [
        {
          "output_type": "stream",
          "name": "stdout",
          "text": [
            "fizzbuzz\n",
            "fizz\n",
            "buzz\n",
            "fizz\n",
            "fizz\n",
            "buzz\n"
          ]
        }
      ]
    },
    {
      "cell_type": "code",
      "execution_count": null,
      "metadata": {
        "id": "FpkcFqIPVGem"
      },
      "outputs": [],
      "source": [
        "## Exercise Answer\n",
        "import random\n",
        "\n",
        "\n",
        "def fizz_buzz1():\n",
        "\n",
        "    for outer_i in range(10):\n",
        "        for inner_i in range(10):\n",
        "        x=random.randint(0,9)\n",
        "            if x %3==0:\n",
        "          print (\"Fizz\",end=\" \")\n",
        "            elif x %5==0:\n",
        "            print (\"Buzz\",end=\" \")\n",
        "            elif x %5==0 and x %3==0 :\n",
        "            print (\"Butt\",end=\" \")\n",
        "            else :\n",
        "                print (x,end=\" \")\n",
        "\n",
        "\n",
        "        print(\"\\n\")"
      ]
    },
    {
      "cell_type": "code",
      "source": [
        "for outer_i in range(10): # This is similar to the code in previous solutions, modifications are made later on\n",
        "     for inner_i in range(10):\n",
        "        x=random.randint(0,9)\n",
        "        if x %2==0: # This is similar to the code above however conditions need to met in order to provide a replacment of the odd numbers, an if and else statment is introduced, to seperate odds and evens\n",
        "          print (x,end=\" \")\n",
        "        elif x %5==0:\n",
        "            print (\"Buzz\",end=\" \")\n",
        "        elif x %5==0 and x %3==0 :\n",
        "            print (\"Butt\",end=\" \")\n",
        "        else :\n",
        "          print (\"@\",end=\" \") # If odds replace with \"@\", conidtion 2\n",
        "\n",
        "\n",
        "     print(\"\\n\")  # Dimensions are changed"
      ],
      "metadata": {
        "colab": {
          "base_uri": "https://localhost:8080/"
        },
        "id": "IK5qla_YiVnJ",
        "outputId": "692d04fd-e89e-4295-b13d-934f9e86ff99"
      },
      "execution_count": 159,
      "outputs": [
        {
          "output_type": "stream",
          "name": "stdout",
          "text": [
            "8 @ 4 8 0 Buzz @ @ @ Buzz \n",
            "\n",
            "6 8 @ 6 2 8 @ 0 2 8 \n",
            "\n",
            "@ @ 2 @ 4 4 2 Buzz 2 @ \n",
            "\n",
            "4 6 @ 2 @ @ 0 2 6 @ \n",
            "\n",
            "8 @ Buzz Buzz 6 0 6 0 @ 8 \n",
            "\n",
            "@ 4 @ @ 6 0 Buzz 6 4 0 \n",
            "\n",
            "4 4 0 Buzz @ 0 @ 0 0 4 \n",
            "\n",
            "4 @ Buzz @ 0 4 @ 4 8 Buzz \n",
            "\n",
            "@ Buzz @ 0 @ 0 @ 0 2 2 \n",
            "\n",
            "6 0 Buzz @ @ @ Buzz 6 @ @ \n",
            "\n"
          ]
        }
      ]
    },
    {
      "cell_type": "markdown",
      "metadata": {
        "id": "irZkwmYwVGem"
      },
      "source": [
        "### Exercise 6: (15 points)\n",
        "<span  style=\"color:purple; font-size:16px\">Write a function `prop_long_names()` that takes in list of names `name_list` and calculates and returns the proportion of names in the list that are longer than 5 characters as a decimal. Use the name_list given below.</span>\n",
        "\n"
      ]
    },
    {
      "cell_type": "code",
      "execution_count": 97,
      "metadata": {
        "id": "CZlvr96qVGem"
      },
      "outputs": [],
      "source": [
        "## Exercise Answer\n",
        "name_list = ['Mary', 'AnnMarie', 'Emma', 'Elizabeth', 'Minnie', 'Margaret', 'Sammie', 'Alice', 'Bertha', 'Sarah', 'Annie',\n",
        "             'Clara', 'EllaSue', 'Florence', 'Cora', 'Martha', 'Laura', 'Nellie', 'Grace', 'Carrie']\n"
      ]
    },
    {
      "cell_type": "code",
      "execution_count": 98,
      "metadata": {
        "id": "uxwy52BNVGen"
      },
      "outputs": [],
      "source": [
        "def prop_long_names(name_list):\n",
        "\n",
        "    more_than_five = [item for item in name_list if len(item) > 5]\n",
        "\n",
        "    Letters=len(name_list)\n",
        "\n",
        "\n",
        "    return(more_than_five)"
      ]
    },
    {
      "cell_type": "code",
      "source": [
        "prop_long_names(name_list)"
      ],
      "metadata": {
        "colab": {
          "base_uri": "https://localhost:8080/"
        },
        "id": "LLf5Vozdz4Yv",
        "outputId": "bd5ca109-c7ef-45a5-e0ae-c447f8d250f4"
      },
      "execution_count": 104,
      "outputs": [
        {
          "output_type": "stream",
          "name": "stdout",
          "text": [
            "AnnMarie is 8 .0 characters\n",
            "Elizabeth is 9 .0 characters\n",
            "Minnie is 6 .0 characters\n",
            "Margaret is 8 .0 characters\n",
            "Sammie is 6 .0 characters\n",
            "Bertha is 6 .0 characters\n",
            "EllaSue is 7 .0 characters\n",
            "Florence is 8 .0 characters\n",
            "Martha is  6 .0 characters\n",
            "Nellie is 6 .0 characters\n"
          ]
        }
      ]
    },
    {
      "cell_type": "code",
      "source": [
        "def prop_long_names(name_list):\n",
        "\n",
        "    more_than_five = [item for item in name_list if len(item) > 5]\n",
        "\n",
        "    Letters=len(name_list)\n",
        "\n",
        "    print (\"AnnMarie is\" , len('AnnMarie'),\".0 characters\")\n",
        "\n",
        "    print (\"Elizabeth is\" , len('Elizabeth'),\".0 characters\")\n",
        "\n",
        "    print (\"Minnie is\" , len('Minnie'),\".0 characters\")\n",
        "\n",
        "    print (\"Margaret is\" , len('Margaret'),\".0 characters\")\n",
        "\n",
        "    print ('Sammie is' , len('Sammie'),\".0 characters\")\n",
        "\n",
        "    print ('Bertha is' , len('Bertha'),\".0 characters\")\n",
        "\n",
        "    print ('EllaSue is' , len('EllaSue'),\".0 characters\")\n",
        "\n",
        "    print ('Florence is' , len('Florence'),\".0 characters\")\n",
        "\n",
        "    print ( 'Martha is ' , len('Martha'),\".0 characters\")\n",
        "\n",
        "    print ('Nellie is' , len('Nellie'),\".0 characters\")\n",
        "\n",
        "    return"
      ],
      "metadata": {
        "id": "YuxnMcYXZwQ9"
      },
      "execution_count": 106,
      "outputs": []
    },
    {
      "cell_type": "code",
      "source": [
        "prop_long_names(name_list)"
      ],
      "metadata": {
        "colab": {
          "base_uri": "https://localhost:8080/"
        },
        "id": "4hK0htUKZ961",
        "outputId": "d67e7a1d-ecb8-4fdc-e7ff-97639a2f78d1"
      },
      "execution_count": 107,
      "outputs": [
        {
          "output_type": "stream",
          "name": "stdout",
          "text": [
            "AnnMarie is 8 .0 characters\n",
            "Elizabeth is 9 .0 characters\n",
            "Minnie is 6 .0 characters\n",
            "Margaret is 8 .0 characters\n",
            "Sammie is 6 .0 characters\n",
            "Bertha is 6 .0 characters\n",
            "EllaSue is 7 .0 characters\n",
            "Florence is 8 .0 characters\n",
            "Martha is  6 .0 characters\n",
            "Nellie is 6 .0 characters\n"
          ]
        }
      ]
    }
  ],
  "metadata": {
    "kernelspec": {
      "display_name": "Python 3 (ipykernel)",
      "language": "python",
      "name": "python3"
    },
    "language_info": {
      "codemirror_mode": {
        "name": "ipython",
        "version": 3
      },
      "file_extension": ".py",
      "mimetype": "text/x-python",
      "name": "python",
      "nbconvert_exporter": "python",
      "pygments_lexer": "ipython3",
      "version": "3.11.3"
    },
    "toc": {
      "base_numbering": 1,
      "nav_menu": {},
      "number_sections": false,
      "sideBar": false,
      "skip_h1_title": false,
      "title_cell": "Table of Contents",
      "title_sidebar": "Contents",
      "toc_cell": false,
      "toc_position": {},
      "toc_section_display": false,
      "toc_window_display": false
    },
    "colab": {
      "provenance": [],
      "include_colab_link": true
    }
  },
  "nbformat": 4,
  "nbformat_minor": 0
}